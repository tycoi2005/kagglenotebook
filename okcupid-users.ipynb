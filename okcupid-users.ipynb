{
 "cells": [
  {
   "cell_type": "code",
   "execution_count": 1,
   "id": "949c302b",
   "metadata": {
    "_cell_guid": "b1076dfc-b9ad-4769-8c92-a6c4dae69d19",
    "_uuid": "8f2839f25d086af736a60e9eeb907d3b93b6e0e5",
    "execution": {
     "iopub.execute_input": "2023-09-05T08:43:38.276400Z",
     "iopub.status.busy": "2023-09-05T08:43:38.275906Z",
     "iopub.status.idle": "2023-09-05T08:43:42.403957Z",
     "shell.execute_reply": "2023-09-05T08:43:42.402591Z"
    },
    "papermill": {
     "duration": 4.147881,
     "end_time": "2023-09-05T08:43:42.406386",
     "exception": false,
     "start_time": "2023-09-05T08:43:38.258505",
     "status": "completed"
    },
    "tags": []
   },
   "outputs": [
    {
     "name": "stdout",
     "output_type": "stream",
     "text": [
      "/kaggle/input/okcupid-profiles/okcupid_profiles.csv\n"
     ]
    },
    {
     "data": {
      "text/html": [
       "<div>\n",
       "<style scoped>\n",
       "    .dataframe tbody tr th:only-of-type {\n",
       "        vertical-align: middle;\n",
       "    }\n",
       "\n",
       "    .dataframe tbody tr th {\n",
       "        vertical-align: top;\n",
       "    }\n",
       "\n",
       "    .dataframe thead th {\n",
       "        text-align: right;\n",
       "    }\n",
       "</style>\n",
       "<table border=\"1\" class=\"dataframe\">\n",
       "  <thead>\n",
       "    <tr style=\"text-align: right;\">\n",
       "      <th></th>\n",
       "      <th>age</th>\n",
       "      <th>status</th>\n",
       "      <th>sex</th>\n",
       "      <th>orientation</th>\n",
       "      <th>body_type</th>\n",
       "      <th>diet</th>\n",
       "      <th>drinks</th>\n",
       "      <th>drugs</th>\n",
       "      <th>education</th>\n",
       "      <th>ethnicity</th>\n",
       "      <th>...</th>\n",
       "      <th>essay0</th>\n",
       "      <th>essay1</th>\n",
       "      <th>essay2</th>\n",
       "      <th>essay3</th>\n",
       "      <th>essay4</th>\n",
       "      <th>essay5</th>\n",
       "      <th>essay6</th>\n",
       "      <th>essay7</th>\n",
       "      <th>essay8</th>\n",
       "      <th>essay9</th>\n",
       "    </tr>\n",
       "  </thead>\n",
       "  <tbody>\n",
       "    <tr>\n",
       "      <th>0</th>\n",
       "      <td>22</td>\n",
       "      <td>single</td>\n",
       "      <td>m</td>\n",
       "      <td>straight</td>\n",
       "      <td>a little extra</td>\n",
       "      <td>strictly anything</td>\n",
       "      <td>socially</td>\n",
       "      <td>never</td>\n",
       "      <td>working on college/university</td>\n",
       "      <td>asian, white</td>\n",
       "      <td>...</td>\n",
       "      <td>about me:  i would love to think that i was so...</td>\n",
       "      <td>currently working as an international agent fo...</td>\n",
       "      <td>making people laugh. ranting about a good salt...</td>\n",
       "      <td>the way i look. i am a six foot half asian, ha...</td>\n",
       "      <td>books: absurdistan, the republic, of mice and ...</td>\n",
       "      <td>food. water. cell phone. shelter.</td>\n",
       "      <td>duality and humorous things</td>\n",
       "      <td>trying to find someone to hang out with. i am ...</td>\n",
       "      <td>i am new to california and looking for someone...</td>\n",
       "      <td>you want to be swept off your feet! you are ti...</td>\n",
       "    </tr>\n",
       "    <tr>\n",
       "      <th>1</th>\n",
       "      <td>35</td>\n",
       "      <td>single</td>\n",
       "      <td>m</td>\n",
       "      <td>straight</td>\n",
       "      <td>average</td>\n",
       "      <td>mostly other</td>\n",
       "      <td>often</td>\n",
       "      <td>sometimes</td>\n",
       "      <td>working on space camp</td>\n",
       "      <td>white</td>\n",
       "      <td>...</td>\n",
       "      <td>i am a chef: this is what that means. 1. i am ...</td>\n",
       "      <td>dedicating everyday to being an unbelievable b...</td>\n",
       "      <td>being silly. having ridiculous amonts of fun w...</td>\n",
       "      <td>NaN</td>\n",
       "      <td>i am die hard christopher moore fan. i don't r...</td>\n",
       "      <td>delicious porkness in all of its glories. my b...</td>\n",
       "      <td>NaN</td>\n",
       "      <td>NaN</td>\n",
       "      <td>i am very open and will share just about anyth...</td>\n",
       "      <td>NaN</td>\n",
       "    </tr>\n",
       "    <tr>\n",
       "      <th>2</th>\n",
       "      <td>38</td>\n",
       "      <td>available</td>\n",
       "      <td>m</td>\n",
       "      <td>straight</td>\n",
       "      <td>thin</td>\n",
       "      <td>anything</td>\n",
       "      <td>socially</td>\n",
       "      <td>NaN</td>\n",
       "      <td>graduated from masters program</td>\n",
       "      <td>NaN</td>\n",
       "      <td>...</td>\n",
       "      <td>i'm not ashamed of much, but writing public te...</td>\n",
       "      <td>i make nerdy software for musicians, artists, ...</td>\n",
       "      <td>improvising in different contexts. alternating...</td>\n",
       "      <td>my large jaw and large glasses are the physica...</td>\n",
       "      <td>okay this is where the cultural matrix gets so...</td>\n",
       "      <td>movement conversation creation contemplation t...</td>\n",
       "      <td>NaN</td>\n",
       "      <td>viewing. listening. dancing. talking. drinking...</td>\n",
       "      <td>when i was five years old, i was known as \"the...</td>\n",
       "      <td>you are bright, open, intense, silly, ironic, ...</td>\n",
       "    </tr>\n",
       "    <tr>\n",
       "      <th>3</th>\n",
       "      <td>23</td>\n",
       "      <td>single</td>\n",
       "      <td>m</td>\n",
       "      <td>straight</td>\n",
       "      <td>thin</td>\n",
       "      <td>vegetarian</td>\n",
       "      <td>socially</td>\n",
       "      <td>NaN</td>\n",
       "      <td>working on college/university</td>\n",
       "      <td>white</td>\n",
       "      <td>...</td>\n",
       "      <td>i work in a library and go to school. . .</td>\n",
       "      <td>reading things written by old dead people</td>\n",
       "      <td>playing synthesizers and organizing books acco...</td>\n",
       "      <td>socially awkward but i do my best</td>\n",
       "      <td>bataille, celine, beckett. . . lynch, jarmusch...</td>\n",
       "      <td>NaN</td>\n",
       "      <td>cats and german philosophy</td>\n",
       "      <td>NaN</td>\n",
       "      <td>NaN</td>\n",
       "      <td>you feel so inclined.</td>\n",
       "    </tr>\n",
       "    <tr>\n",
       "      <th>4</th>\n",
       "      <td>29</td>\n",
       "      <td>single</td>\n",
       "      <td>m</td>\n",
       "      <td>straight</td>\n",
       "      <td>athletic</td>\n",
       "      <td>NaN</td>\n",
       "      <td>socially</td>\n",
       "      <td>never</td>\n",
       "      <td>graduated from college/university</td>\n",
       "      <td>asian, black, other</td>\n",
       "      <td>...</td>\n",
       "      <td>hey how's it going? currently vague on the pro...</td>\n",
       "      <td>work work work work + play</td>\n",
       "      <td>creating imagery to look at: http://bagsbrown....</td>\n",
       "      <td>i smile a lot and my inquisitive nature</td>\n",
       "      <td>music: bands, rappers, musicians at the moment...</td>\n",
       "      <td>NaN</td>\n",
       "      <td>NaN</td>\n",
       "      <td>NaN</td>\n",
       "      <td>NaN</td>\n",
       "      <td>NaN</td>\n",
       "    </tr>\n",
       "  </tbody>\n",
       "</table>\n",
       "<p>5 rows × 31 columns</p>\n",
       "</div>"
      ],
      "text/plain": [
       "   age     status sex orientation       body_type               diet  \\\n",
       "0   22     single   m    straight  a little extra  strictly anything   \n",
       "1   35     single   m    straight         average       mostly other   \n",
       "2   38  available   m    straight            thin           anything   \n",
       "3   23     single   m    straight            thin         vegetarian   \n",
       "4   29     single   m    straight        athletic                NaN   \n",
       "\n",
       "     drinks      drugs                          education  \\\n",
       "0  socially      never      working on college/university   \n",
       "1     often  sometimes              working on space camp   \n",
       "2  socially        NaN     graduated from masters program   \n",
       "3  socially        NaN      working on college/university   \n",
       "4  socially      never  graduated from college/university   \n",
       "\n",
       "             ethnicity  ...  \\\n",
       "0         asian, white  ...   \n",
       "1                white  ...   \n",
       "2                  NaN  ...   \n",
       "3                white  ...   \n",
       "4  asian, black, other  ...   \n",
       "\n",
       "                                              essay0  \\\n",
       "0  about me:  i would love to think that i was so...   \n",
       "1  i am a chef: this is what that means. 1. i am ...   \n",
       "2  i'm not ashamed of much, but writing public te...   \n",
       "3          i work in a library and go to school. . .   \n",
       "4  hey how's it going? currently vague on the pro...   \n",
       "\n",
       "                                              essay1  \\\n",
       "0  currently working as an international agent fo...   \n",
       "1  dedicating everyday to being an unbelievable b...   \n",
       "2  i make nerdy software for musicians, artists, ...   \n",
       "3          reading things written by old dead people   \n",
       "4                         work work work work + play   \n",
       "\n",
       "                                              essay2  \\\n",
       "0  making people laugh. ranting about a good salt...   \n",
       "1  being silly. having ridiculous amonts of fun w...   \n",
       "2  improvising in different contexts. alternating...   \n",
       "3  playing synthesizers and organizing books acco...   \n",
       "4  creating imagery to look at: http://bagsbrown....   \n",
       "\n",
       "                                              essay3  \\\n",
       "0  the way i look. i am a six foot half asian, ha...   \n",
       "1                                                NaN   \n",
       "2  my large jaw and large glasses are the physica...   \n",
       "3                  socially awkward but i do my best   \n",
       "4            i smile a lot and my inquisitive nature   \n",
       "\n",
       "                                              essay4  \\\n",
       "0  books: absurdistan, the republic, of mice and ...   \n",
       "1  i am die hard christopher moore fan. i don't r...   \n",
       "2  okay this is where the cultural matrix gets so...   \n",
       "3  bataille, celine, beckett. . . lynch, jarmusch...   \n",
       "4  music: bands, rappers, musicians at the moment...   \n",
       "\n",
       "                                              essay5  \\\n",
       "0                  food. water. cell phone. shelter.   \n",
       "1  delicious porkness in all of its glories. my b...   \n",
       "2  movement conversation creation contemplation t...   \n",
       "3                                                NaN   \n",
       "4                                                NaN   \n",
       "\n",
       "                        essay6  \\\n",
       "0  duality and humorous things   \n",
       "1                          NaN   \n",
       "2                          NaN   \n",
       "3   cats and german philosophy   \n",
       "4                          NaN   \n",
       "\n",
       "                                              essay7  \\\n",
       "0  trying to find someone to hang out with. i am ...   \n",
       "1                                                NaN   \n",
       "2  viewing. listening. dancing. talking. drinking...   \n",
       "3                                                NaN   \n",
       "4                                                NaN   \n",
       "\n",
       "                                              essay8  \\\n",
       "0  i am new to california and looking for someone...   \n",
       "1  i am very open and will share just about anyth...   \n",
       "2  when i was five years old, i was known as \"the...   \n",
       "3                                                NaN   \n",
       "4                                                NaN   \n",
       "\n",
       "                                              essay9  \n",
       "0  you want to be swept off your feet! you are ti...  \n",
       "1                                                NaN  \n",
       "2  you are bright, open, intense, silly, ironic, ...  \n",
       "3                              you feel so inclined.  \n",
       "4                                                NaN  \n",
       "\n",
       "[5 rows x 31 columns]"
      ]
     },
     "execution_count": 1,
     "metadata": {},
     "output_type": "execute_result"
    }
   ],
   "source": [
    "# This Python 3 environment comes with many helpful analytics libraries installed\n",
    "# It is defined by the kaggle/python Docker image: https://github.com/kaggle/docker-python\n",
    "# For example, here's several helpful packages to load\n",
    "\n",
    "import numpy as np # linear algebra\n",
    "import pandas as pd # data processing, CSV file I/O (e.g. pd.read_csv)\n",
    "\n",
    "\n",
    "# Input data files are available in the read-only \"../input/\" directory\n",
    "# For example, running this (by clicking run or pressing Shift+Enter) will list all files under the input directory\n",
    "\n",
    "import os\n",
    "for dirname, _, filenames in os.walk('/kaggle/input'):\n",
    "    for filename in filenames:\n",
    "        print(os.path.join(dirname, filename))\n",
    "\n",
    "# You can write up to 20GB to the current directory (/kaggle/working/) that gets preserved as output when you create a version using \"Save & Run All\" \n",
    "# You can also write temporary files to /kaggle/temp/, but they won't be saved outside of the current session\n",
    "data = pd.read_csv('/kaggle/input/okcupid-profiles/okcupid_profiles.csv')\n",
    "data.head()\n"
   ]
  },
  {
   "cell_type": "code",
   "execution_count": 2,
   "id": "be4b6468",
   "metadata": {
    "execution": {
     "iopub.execute_input": "2023-09-05T08:43:42.441122Z",
     "iopub.status.busy": "2023-09-05T08:43:42.440704Z",
     "iopub.status.idle": "2023-09-05T08:43:42.464517Z",
     "shell.execute_reply": "2023-09-05T08:43:42.463413Z"
    },
    "papermill": {
     "duration": 0.043791,
     "end_time": "2023-09-05T08:43:42.467035",
     "exception": false,
     "start_time": "2023-09-05T08:43:42.423244",
     "status": "completed"
    },
    "tags": []
   },
   "outputs": [
    {
     "data": {
      "text/plain": [
       "Index(['age', 'status', 'sex', 'orientation', 'body_type', 'diet', 'drinks',\n",
       "       'drugs', 'education', 'ethnicity', 'height', 'income', 'job',\n",
       "       'last_online', 'location', 'offspring', 'pets', 'religion', 'sign',\n",
       "       'smokes', 'speaks', 'essay0', 'essay1', 'essay2', 'essay3', 'essay4',\n",
       "       'essay5', 'essay6', 'essay7', 'essay8', 'essay9'],\n",
       "      dtype='object')"
      ]
     },
     "execution_count": 2,
     "metadata": {},
     "output_type": "execute_result"
    }
   ],
   "source": [
    "data['status'].value_counts()\n",
    "data.columns"
   ]
  },
  {
   "cell_type": "code",
   "execution_count": 3,
   "id": "2e367b9b",
   "metadata": {
    "execution": {
     "iopub.execute_input": "2023-09-05T08:43:42.500991Z",
     "iopub.status.busy": "2023-09-05T08:43:42.499901Z",
     "iopub.status.idle": "2023-09-05T08:43:42.515628Z",
     "shell.execute_reply": "2023-09-05T08:43:42.514535Z"
    },
    "papermill": {
     "duration": 0.035361,
     "end_time": "2023-09-05T08:43:42.518284",
     "exception": false,
     "start_time": "2023-09-05T08:43:42.482923",
     "status": "completed"
    },
    "tags": []
   },
   "outputs": [
    {
     "data": {
      "text/plain": [
       "height\n",
       "70.0    6074\n",
       "68.0    5449\n",
       "67.0    5354\n",
       "72.0    5315\n",
       "69.0    5179\n",
       "71.0    4826\n",
       "66.0    4759\n",
       "64.0    3865\n",
       "65.0    3794\n",
       "73.0    2815\n",
       "63.0    2767\n",
       "74.0    2547\n",
       "62.0    2244\n",
       "75.0    1382\n",
       "61.0    1090\n",
       "60.0     791\n",
       "76.0     783\n",
       "77.0     280\n",
       "59.0     212\n",
       "78.0     132\n",
       "79.0      57\n",
       "58.0      53\n",
       "80.0      27\n",
       "95.0      20\n",
       "57.0      17\n",
       "83.0      12\n",
       "81.0      11\n",
       "82.0      11\n",
       "36.0      11\n",
       "84.0       9\n",
       "56.0       8\n",
       "55.0       6\n",
       "53.0       5\n",
       "94.0       3\n",
       "54.0       3\n",
       "91.0       3\n",
       "50.0       2\n",
       "88.0       2\n",
       "37.0       2\n",
       "48.0       2\n",
       "43.0       2\n",
       "1.0        1\n",
       "51.0       1\n",
       "90.0       1\n",
       "26.0       1\n",
       "85.0       1\n",
       "9.0        1\n",
       "89.0       1\n",
       "92.0       1\n",
       "87.0       1\n",
       "49.0       1\n",
       "47.0       1\n",
       "6.0        1\n",
       "42.0       1\n",
       "86.0       1\n",
       "3.0        1\n",
       "8.0        1\n",
       "93.0       1\n",
       "52.0       1\n",
       "4.0        1\n",
       "Name: count, dtype: int64"
      ]
     },
     "execution_count": 3,
     "metadata": {},
     "output_type": "execute_result"
    }
   ],
   "source": [
    "data['height'].value_counts()"
   ]
  },
  {
   "cell_type": "code",
   "execution_count": 4,
   "id": "666d2879",
   "metadata": {
    "execution": {
     "iopub.execute_input": "2023-09-05T08:43:42.553403Z",
     "iopub.status.busy": "2023-09-05T08:43:42.553007Z",
     "iopub.status.idle": "2023-09-05T08:43:42.588727Z",
     "shell.execute_reply": "2023-09-05T08:43:42.587581Z"
    },
    "papermill": {
     "duration": 0.056369,
     "end_time": "2023-09-05T08:43:42.591258",
     "exception": false,
     "start_time": "2023-09-05T08:43:42.534889",
     "status": "completed"
    },
    "tags": []
   },
   "outputs": [
    {
     "data": {
      "text/html": [
       "<div>\n",
       "<style scoped>\n",
       "    .dataframe tbody tr th:only-of-type {\n",
       "        vertical-align: middle;\n",
       "    }\n",
       "\n",
       "    .dataframe tbody tr th {\n",
       "        vertical-align: top;\n",
       "    }\n",
       "\n",
       "    .dataframe thead th {\n",
       "        text-align: right;\n",
       "    }\n",
       "</style>\n",
       "<table border=\"1\" class=\"dataframe\">\n",
       "  <thead>\n",
       "    <tr style=\"text-align: right;\">\n",
       "      <th></th>\n",
       "      <th>age</th>\n",
       "      <th>height</th>\n",
       "      <th>income</th>\n",
       "    </tr>\n",
       "  </thead>\n",
       "  <tbody>\n",
       "    <tr>\n",
       "      <th>count</th>\n",
       "      <td>59946.000000</td>\n",
       "      <td>59943.000000</td>\n",
       "      <td>59946.000000</td>\n",
       "    </tr>\n",
       "    <tr>\n",
       "      <th>mean</th>\n",
       "      <td>32.340290</td>\n",
       "      <td>68.295281</td>\n",
       "      <td>20033.222534</td>\n",
       "    </tr>\n",
       "    <tr>\n",
       "      <th>std</th>\n",
       "      <td>9.452779</td>\n",
       "      <td>3.994803</td>\n",
       "      <td>97346.192104</td>\n",
       "    </tr>\n",
       "    <tr>\n",
       "      <th>min</th>\n",
       "      <td>18.000000</td>\n",
       "      <td>1.000000</td>\n",
       "      <td>-1.000000</td>\n",
       "    </tr>\n",
       "    <tr>\n",
       "      <th>25%</th>\n",
       "      <td>26.000000</td>\n",
       "      <td>66.000000</td>\n",
       "      <td>-1.000000</td>\n",
       "    </tr>\n",
       "    <tr>\n",
       "      <th>50%</th>\n",
       "      <td>30.000000</td>\n",
       "      <td>68.000000</td>\n",
       "      <td>-1.000000</td>\n",
       "    </tr>\n",
       "    <tr>\n",
       "      <th>75%</th>\n",
       "      <td>37.000000</td>\n",
       "      <td>71.000000</td>\n",
       "      <td>-1.000000</td>\n",
       "    </tr>\n",
       "    <tr>\n",
       "      <th>max</th>\n",
       "      <td>110.000000</td>\n",
       "      <td>95.000000</td>\n",
       "      <td>1000000.000000</td>\n",
       "    </tr>\n",
       "  </tbody>\n",
       "</table>\n",
       "</div>"
      ],
      "text/plain": [
       "                age        height          income\n",
       "count  59946.000000  59943.000000    59946.000000\n",
       "mean      32.340290     68.295281    20033.222534\n",
       "std        9.452779      3.994803    97346.192104\n",
       "min       18.000000      1.000000       -1.000000\n",
       "25%       26.000000     66.000000       -1.000000\n",
       "50%       30.000000     68.000000       -1.000000\n",
       "75%       37.000000     71.000000       -1.000000\n",
       "max      110.000000     95.000000  1000000.000000"
      ]
     },
     "execution_count": 4,
     "metadata": {},
     "output_type": "execute_result"
    }
   ],
   "source": [
    "data.describe()"
   ]
  },
  {
   "cell_type": "code",
   "execution_count": 5,
   "id": "bdd0de00",
   "metadata": {
    "execution": {
     "iopub.execute_input": "2023-09-05T08:43:42.626031Z",
     "iopub.status.busy": "2023-09-05T08:43:42.625628Z",
     "iopub.status.idle": "2023-09-05T08:43:42.808392Z",
     "shell.execute_reply": "2023-09-05T08:43:42.807185Z"
    },
    "papermill": {
     "duration": 0.203573,
     "end_time": "2023-09-05T08:43:42.810957",
     "exception": false,
     "start_time": "2023-09-05T08:43:42.607384",
     "status": "completed"
    },
    "tags": []
   },
   "outputs": [
    {
     "data": {
      "text/plain": [
       "age                0\n",
       "status             0\n",
       "sex                0\n",
       "orientation        0\n",
       "body_type       5296\n",
       "diet           24395\n",
       "drinks          2985\n",
       "drugs          14080\n",
       "education       6628\n",
       "ethnicity       5680\n",
       "height             3\n",
       "income             0\n",
       "job             8198\n",
       "last_online        0\n",
       "location           0\n",
       "offspring      35561\n",
       "pets           19921\n",
       "religion       20226\n",
       "sign           11056\n",
       "smokes          5512\n",
       "speaks            50\n",
       "essay0          5488\n",
       "essay1          7572\n",
       "essay2          9638\n",
       "essay3         11476\n",
       "essay4         10537\n",
       "essay5         10850\n",
       "essay6         13771\n",
       "essay7         12451\n",
       "essay8         19225\n",
       "essay9         12603\n",
       "dtype: int64"
      ]
     },
     "execution_count": 5,
     "metadata": {},
     "output_type": "execute_result"
    }
   ],
   "source": [
    "# Count null value\n",
    "data.isnull().sum()"
   ]
  },
  {
   "cell_type": "code",
   "execution_count": 6,
   "id": "6f319724",
   "metadata": {
    "execution": {
     "iopub.execute_input": "2023-09-05T08:43:42.846060Z",
     "iopub.status.busy": "2023-09-05T08:43:42.845641Z",
     "iopub.status.idle": "2023-09-05T08:43:42.864782Z",
     "shell.execute_reply": "2023-09-05T08:43:42.863528Z"
    },
    "papermill": {
     "duration": 0.039855,
     "end_time": "2023-09-05T08:43:42.867385",
     "exception": false,
     "start_time": "2023-09-05T08:43:42.827530",
     "status": "completed"
    },
    "tags": []
   },
   "outputs": [
    {
     "data": {
      "text/plain": [
       "orientation\n",
       "straight    51606\n",
       "gay          5573\n",
       "bisexual     2767\n",
       "Name: count, dtype: int64"
      ]
     },
     "execution_count": 6,
     "metadata": {},
     "output_type": "execute_result"
    }
   ],
   "source": [
    "data.orientation.value_counts()"
   ]
  },
  {
   "cell_type": "code",
   "execution_count": 7,
   "id": "8302e74c",
   "metadata": {
    "execution": {
     "iopub.execute_input": "2023-09-05T08:43:42.903729Z",
     "iopub.status.busy": "2023-09-05T08:43:42.903335Z",
     "iopub.status.idle": "2023-09-05T08:43:42.923647Z",
     "shell.execute_reply": "2023-09-05T08:43:42.922498Z"
    },
    "papermill": {
     "duration": 0.04202,
     "end_time": "2023-09-05T08:43:42.926219",
     "exception": false,
     "start_time": "2023-09-05T08:43:42.884199",
     "status": "completed"
    },
    "tags": []
   },
   "outputs": [
    {
     "data": {
      "text/plain": [
       "orientation\n",
       "straight    86.1%\n",
       "gay          9.3%\n",
       "bisexual     4.6%\n",
       "Name: proportion, dtype: object"
      ]
     },
     "execution_count": 7,
     "metadata": {},
     "output_type": "execute_result"
    }
   ],
   "source": [
    "data.orientation.value_counts(normalize=True).mul(100).round(1).astype(str) + '%'"
   ]
  },
  {
   "cell_type": "code",
   "execution_count": 8,
   "id": "5764c176",
   "metadata": {
    "execution": {
     "iopub.execute_input": "2023-09-05T08:43:42.962308Z",
     "iopub.status.busy": "2023-09-05T08:43:42.961954Z",
     "iopub.status.idle": "2023-09-05T08:43:42.985123Z",
     "shell.execute_reply": "2023-09-05T08:43:42.984057Z"
    },
    "papermill": {
     "duration": 0.044391,
     "end_time": "2023-09-05T08:43:42.987482",
     "exception": false,
     "start_time": "2023-09-05T08:43:42.943091",
     "status": "completed"
    },
    "tags": []
   },
   "outputs": [
    {
     "data": {
      "text/plain": [
       "speaks\n",
       "english                                                                21828\n",
       "english (fluently)                                                      6628\n",
       "english (fluently), spanish (poorly)                                    2059\n",
       "english (fluently), spanish (okay)                                      1917\n",
       "english (fluently), spanish (fluently)                                  1288\n",
       "                                                                       ...  \n",
       "english (fluently), urdu (poorly), japanese (poorly), french (okay)        1\n",
       "english, spanish, hindi, c++                                               1\n",
       "english (fluently), japanese (okay), thai (okay), chinese (poorly)         1\n",
       "english (fluently), french (okay), italian (okay), hebrew (okay)           1\n",
       "english (fluently), french, farsi                                          1\n",
       "Name: count, Length: 7647, dtype: int64"
      ]
     },
     "execution_count": 8,
     "metadata": {},
     "output_type": "execute_result"
    }
   ],
   "source": [
    "data.speaks.value_counts()\n"
   ]
  },
  {
   "cell_type": "code",
   "execution_count": 9,
   "id": "b64316e1",
   "metadata": {
    "execution": {
     "iopub.execute_input": "2023-09-05T08:43:43.024869Z",
     "iopub.status.busy": "2023-09-05T08:43:43.024370Z",
     "iopub.status.idle": "2023-09-05T08:43:43.044137Z",
     "shell.execute_reply": "2023-09-05T08:43:43.042834Z"
    },
    "papermill": {
     "duration": 0.040668,
     "end_time": "2023-09-05T08:43:43.046436",
     "exception": false,
     "start_time": "2023-09-05T08:43:43.005768",
     "status": "completed"
    },
    "tags": []
   },
   "outputs": [
    {
     "data": {
      "text/plain": [
       "location\n",
       "san francisco, california         31064\n",
       "oakland, california                7214\n",
       "berkeley, california               4212\n",
       "san mateo, california              1331\n",
       "palo alto, california              1064\n",
       "                                  ...  \n",
       "south wellfleet, massachusetts        1\n",
       "orange, california                    1\n",
       "astoria, new york                     1\n",
       "london, united kingdom                1\n",
       "rochester, michigan                   1\n",
       "Name: count, Length: 199, dtype: int64"
      ]
     },
     "execution_count": 9,
     "metadata": {},
     "output_type": "execute_result"
    }
   ],
   "source": [
    "data.location.value_counts()"
   ]
  },
  {
   "cell_type": "markdown",
   "id": "2f879648",
   "metadata": {
    "papermill": {
     "duration": 0.019464,
     "end_time": "2023-09-05T08:43:43.083715",
     "exception": false,
     "start_time": "2023-09-05T08:43:43.064251",
     "status": "completed"
    },
    "tags": []
   },
   "source": [
    "# Data cleaning and feature engineering\n",
    "\n"
   ]
  },
  {
   "cell_type": "code",
   "execution_count": 10,
   "id": "5c74273a",
   "metadata": {
    "execution": {
     "iopub.execute_input": "2023-09-05T08:43:43.131880Z",
     "iopub.status.busy": "2023-09-05T08:43:43.131325Z",
     "iopub.status.idle": "2023-09-05T08:43:43.179380Z",
     "shell.execute_reply": "2023-09-05T08:43:43.178261Z"
    },
    "papermill": {
     "duration": 0.073829,
     "end_time": "2023-09-05T08:43:43.181979",
     "exception": false,
     "start_time": "2023-09-05T08:43:43.108150",
     "status": "completed"
    },
    "tags": []
   },
   "outputs": [
    {
     "data": {
      "text/plain": [
       "age\n",
       "26    3724\n",
       "27    3685\n",
       "28    3583\n",
       "25    3531\n",
       "29    3295\n",
       "24    3242\n",
       "30    3149\n",
       "31    2735\n",
       "23    2592\n",
       "32    2587\n",
       "33    2206\n",
       "22    1934\n",
       "34    1902\n",
       "35    1755\n",
       "36    1583\n",
       "37    1427\n",
       "38    1330\n",
       "21    1282\n",
       "39    1172\n",
       "42    1072\n",
       "40    1030\n",
       "41     980\n",
       "20     953\n",
       "43     858\n",
       "44     708\n",
       "45     643\n",
       "19     611\n",
       "46     578\n",
       "47     529\n",
       "48     481\n",
       "49     459\n",
       "50     437\n",
       "51     350\n",
       "52     344\n",
       "18     309\n",
       "56     271\n",
       "54     267\n",
       "55     265\n",
       "57     256\n",
       "53     252\n",
       "59     221\n",
       "58     197\n",
       "60     195\n",
       "61     176\n",
       "62     167\n",
       "63     138\n",
       "64     113\n",
       "65     109\n",
       "66     105\n",
       "67      66\n",
       "68      59\n",
       "69      31\n",
       "Name: count, dtype: int64"
      ]
     },
     "execution_count": 10,
     "metadata": {},
     "output_type": "execute_result"
    }
   ],
   "source": [
    "# There is 2 strange users age 109 and 110, I removed them\n",
    "df_filtered = data[data['age'] < 100]\n",
    "df_filtered.age.value_counts()"
   ]
  },
  {
   "cell_type": "code",
   "execution_count": 11,
   "id": "48603d08",
   "metadata": {
    "execution": {
     "iopub.execute_input": "2023-09-05T08:43:43.219311Z",
     "iopub.status.busy": "2023-09-05T08:43:43.218904Z",
     "iopub.status.idle": "2023-09-05T08:43:43.254997Z",
     "shell.execute_reply": "2023-09-05T08:43:43.253066Z"
    },
    "papermill": {
     "duration": 0.058139,
     "end_time": "2023-09-05T08:43:43.257996",
     "exception": false,
     "start_time": "2023-09-05T08:43:43.199857",
     "status": "completed"
    },
    "tags": []
   },
   "outputs": [
    {
     "name": "stderr",
     "output_type": "stream",
     "text": [
      "/tmp/ipykernel_20/1556058878.py:3: SettingWithCopyWarning: \n",
      "A value is trying to be set on a copy of a slice from a DataFrame.\n",
      "Try using .loc[row_indexer,col_indexer] = value instead\n",
      "\n",
      "See the caveats in the documentation: https://pandas.pydata.org/pandas-docs/stable/user_guide/indexing.html#returning-a-view-versus-a-copy\n",
      "  df_filtered['is_male'] = (df_filtered.sex == 'm')\n"
     ]
    },
    {
     "data": {
      "text/plain": [
       "is_male\n",
       "True     35828\n",
       "False    24116\n",
       "Name: count, dtype: int64"
      ]
     },
     "execution_count": 11,
     "metadata": {},
     "output_type": "execute_result"
    }
   ],
   "source": [
    "# Convert sex(m/l) to is_male(True/False)\n",
    "df_filtered.sex.value_counts()\n",
    "df_filtered['is_male'] = (df_filtered.sex == 'm')\n",
    "df_filtered.is_male.value_counts()"
   ]
  },
  {
   "cell_type": "code",
   "execution_count": 12,
   "id": "841bfc7b",
   "metadata": {
    "execution": {
     "iopub.execute_input": "2023-09-05T08:43:43.309907Z",
     "iopub.status.busy": "2023-09-05T08:43:43.308968Z",
     "iopub.status.idle": "2023-09-05T08:43:43.455176Z",
     "shell.execute_reply": "2023-09-05T08:43:43.453591Z"
    },
    "papermill": {
     "duration": 0.176198,
     "end_time": "2023-09-05T08:43:43.457927",
     "exception": false,
     "start_time": "2023-09-05T08:43:43.281729",
     "status": "completed"
    },
    "tags": []
   },
   "outputs": [
    {
     "data": {
      "text/html": [
       "<div>\n",
       "<style scoped>\n",
       "    .dataframe tbody tr th:only-of-type {\n",
       "        vertical-align: middle;\n",
       "    }\n",
       "\n",
       "    .dataframe tbody tr th {\n",
       "        vertical-align: top;\n",
       "    }\n",
       "\n",
       "    .dataframe thead th {\n",
       "        text-align: right;\n",
       "    }\n",
       "</style>\n",
       "<table border=\"1\" class=\"dataframe\">\n",
       "  <thead>\n",
       "    <tr style=\"text-align: right;\">\n",
       "      <th></th>\n",
       "      <th>age</th>\n",
       "      <th>status</th>\n",
       "      <th>sex</th>\n",
       "      <th>body_type</th>\n",
       "      <th>diet</th>\n",
       "      <th>drinks</th>\n",
       "      <th>drugs</th>\n",
       "      <th>education</th>\n",
       "      <th>ethnicity</th>\n",
       "      <th>height</th>\n",
       "      <th>...</th>\n",
       "      <th>essay4</th>\n",
       "      <th>essay5</th>\n",
       "      <th>essay6</th>\n",
       "      <th>essay7</th>\n",
       "      <th>essay8</th>\n",
       "      <th>essay9</th>\n",
       "      <th>is_male</th>\n",
       "      <th>orientation_bisexual</th>\n",
       "      <th>orientation_gay</th>\n",
       "      <th>orientation_straight</th>\n",
       "    </tr>\n",
       "  </thead>\n",
       "  <tbody>\n",
       "    <tr>\n",
       "      <th>0</th>\n",
       "      <td>22</td>\n",
       "      <td>single</td>\n",
       "      <td>m</td>\n",
       "      <td>a little extra</td>\n",
       "      <td>strictly anything</td>\n",
       "      <td>socially</td>\n",
       "      <td>never</td>\n",
       "      <td>working on college/university</td>\n",
       "      <td>asian, white</td>\n",
       "      <td>75.0</td>\n",
       "      <td>...</td>\n",
       "      <td>books: absurdistan, the republic, of mice and ...</td>\n",
       "      <td>food. water. cell phone. shelter.</td>\n",
       "      <td>duality and humorous things</td>\n",
       "      <td>trying to find someone to hang out with. i am ...</td>\n",
       "      <td>i am new to california and looking for someone...</td>\n",
       "      <td>you want to be swept off your feet! you are ti...</td>\n",
       "      <td>True</td>\n",
       "      <td>False</td>\n",
       "      <td>False</td>\n",
       "      <td>True</td>\n",
       "    </tr>\n",
       "    <tr>\n",
       "      <th>1</th>\n",
       "      <td>35</td>\n",
       "      <td>single</td>\n",
       "      <td>m</td>\n",
       "      <td>average</td>\n",
       "      <td>mostly other</td>\n",
       "      <td>often</td>\n",
       "      <td>sometimes</td>\n",
       "      <td>working on space camp</td>\n",
       "      <td>white</td>\n",
       "      <td>70.0</td>\n",
       "      <td>...</td>\n",
       "      <td>i am die hard christopher moore fan. i don't r...</td>\n",
       "      <td>delicious porkness in all of its glories. my b...</td>\n",
       "      <td>NaN</td>\n",
       "      <td>NaN</td>\n",
       "      <td>i am very open and will share just about anyth...</td>\n",
       "      <td>NaN</td>\n",
       "      <td>True</td>\n",
       "      <td>False</td>\n",
       "      <td>False</td>\n",
       "      <td>True</td>\n",
       "    </tr>\n",
       "    <tr>\n",
       "      <th>2</th>\n",
       "      <td>38</td>\n",
       "      <td>available</td>\n",
       "      <td>m</td>\n",
       "      <td>thin</td>\n",
       "      <td>anything</td>\n",
       "      <td>socially</td>\n",
       "      <td>NaN</td>\n",
       "      <td>graduated from masters program</td>\n",
       "      <td>NaN</td>\n",
       "      <td>68.0</td>\n",
       "      <td>...</td>\n",
       "      <td>okay this is where the cultural matrix gets so...</td>\n",
       "      <td>movement conversation creation contemplation t...</td>\n",
       "      <td>NaN</td>\n",
       "      <td>viewing. listening. dancing. talking. drinking...</td>\n",
       "      <td>when i was five years old, i was known as \"the...</td>\n",
       "      <td>you are bright, open, intense, silly, ironic, ...</td>\n",
       "      <td>True</td>\n",
       "      <td>False</td>\n",
       "      <td>False</td>\n",
       "      <td>True</td>\n",
       "    </tr>\n",
       "    <tr>\n",
       "      <th>3</th>\n",
       "      <td>23</td>\n",
       "      <td>single</td>\n",
       "      <td>m</td>\n",
       "      <td>thin</td>\n",
       "      <td>vegetarian</td>\n",
       "      <td>socially</td>\n",
       "      <td>NaN</td>\n",
       "      <td>working on college/university</td>\n",
       "      <td>white</td>\n",
       "      <td>71.0</td>\n",
       "      <td>...</td>\n",
       "      <td>bataille, celine, beckett. . . lynch, jarmusch...</td>\n",
       "      <td>NaN</td>\n",
       "      <td>cats and german philosophy</td>\n",
       "      <td>NaN</td>\n",
       "      <td>NaN</td>\n",
       "      <td>you feel so inclined.</td>\n",
       "      <td>True</td>\n",
       "      <td>False</td>\n",
       "      <td>False</td>\n",
       "      <td>True</td>\n",
       "    </tr>\n",
       "    <tr>\n",
       "      <th>4</th>\n",
       "      <td>29</td>\n",
       "      <td>single</td>\n",
       "      <td>m</td>\n",
       "      <td>athletic</td>\n",
       "      <td>NaN</td>\n",
       "      <td>socially</td>\n",
       "      <td>never</td>\n",
       "      <td>graduated from college/university</td>\n",
       "      <td>asian, black, other</td>\n",
       "      <td>66.0</td>\n",
       "      <td>...</td>\n",
       "      <td>music: bands, rappers, musicians at the moment...</td>\n",
       "      <td>NaN</td>\n",
       "      <td>NaN</td>\n",
       "      <td>NaN</td>\n",
       "      <td>NaN</td>\n",
       "      <td>NaN</td>\n",
       "      <td>True</td>\n",
       "      <td>False</td>\n",
       "      <td>False</td>\n",
       "      <td>True</td>\n",
       "    </tr>\n",
       "  </tbody>\n",
       "</table>\n",
       "<p>5 rows × 34 columns</p>\n",
       "</div>"
      ],
      "text/plain": [
       "   age     status sex       body_type               diet    drinks      drugs  \\\n",
       "0   22     single   m  a little extra  strictly anything  socially      never   \n",
       "1   35     single   m         average       mostly other     often  sometimes   \n",
       "2   38  available   m            thin           anything  socially        NaN   \n",
       "3   23     single   m            thin         vegetarian  socially        NaN   \n",
       "4   29     single   m        athletic                NaN  socially      never   \n",
       "\n",
       "                           education            ethnicity  height  ...  \\\n",
       "0      working on college/university         asian, white    75.0  ...   \n",
       "1              working on space camp                white    70.0  ...   \n",
       "2     graduated from masters program                  NaN    68.0  ...   \n",
       "3      working on college/university                white    71.0  ...   \n",
       "4  graduated from college/university  asian, black, other    66.0  ...   \n",
       "\n",
       "                                              essay4  \\\n",
       "0  books: absurdistan, the republic, of mice and ...   \n",
       "1  i am die hard christopher moore fan. i don't r...   \n",
       "2  okay this is where the cultural matrix gets so...   \n",
       "3  bataille, celine, beckett. . . lynch, jarmusch...   \n",
       "4  music: bands, rappers, musicians at the moment...   \n",
       "\n",
       "                                              essay5  \\\n",
       "0                  food. water. cell phone. shelter.   \n",
       "1  delicious porkness in all of its glories. my b...   \n",
       "2  movement conversation creation contemplation t...   \n",
       "3                                                NaN   \n",
       "4                                                NaN   \n",
       "\n",
       "                        essay6  \\\n",
       "0  duality and humorous things   \n",
       "1                          NaN   \n",
       "2                          NaN   \n",
       "3   cats and german philosophy   \n",
       "4                          NaN   \n",
       "\n",
       "                                              essay7  \\\n",
       "0  trying to find someone to hang out with. i am ...   \n",
       "1                                                NaN   \n",
       "2  viewing. listening. dancing. talking. drinking...   \n",
       "3                                                NaN   \n",
       "4                                                NaN   \n",
       "\n",
       "                                              essay8  \\\n",
       "0  i am new to california and looking for someone...   \n",
       "1  i am very open and will share just about anyth...   \n",
       "2  when i was five years old, i was known as \"the...   \n",
       "3                                                NaN   \n",
       "4                                                NaN   \n",
       "\n",
       "                                              essay9 is_male  \\\n",
       "0  you want to be swept off your feet! you are ti...    True   \n",
       "1                                                NaN    True   \n",
       "2  you are bright, open, intense, silly, ironic, ...    True   \n",
       "3                              you feel so inclined.    True   \n",
       "4                                                NaN    True   \n",
       "\n",
       "  orientation_bisexual orientation_gay orientation_straight  \n",
       "0                False           False                 True  \n",
       "1                False           False                 True  \n",
       "2                False           False                 True  \n",
       "3                False           False                 True  \n",
       "4                False           False                 True  \n",
       "\n",
       "[5 rows x 34 columns]"
      ]
     },
     "execution_count": 12,
     "metadata": {},
     "output_type": "execute_result"
    }
   ],
   "source": [
    "# Convert orientation to 3 columns (orientation_bisexual\torientation_gay\torientation_straight)\n",
    "df_filtered.orientation.value_counts()\n",
    "df_filtered = pd.get_dummies(df_filtered, columns=['orientation'])\n",
    "df_filtered.head()"
   ]
  },
  {
   "cell_type": "code",
   "execution_count": 13,
   "id": "25ba0cff",
   "metadata": {
    "execution": {
     "iopub.execute_input": "2023-09-05T08:43:43.567450Z",
     "iopub.status.busy": "2023-09-05T08:43:43.567014Z",
     "iopub.status.idle": "2023-09-05T08:43:43.651917Z",
     "shell.execute_reply": "2023-09-05T08:43:43.650792Z"
    },
    "papermill": {
     "duration": 0.178039,
     "end_time": "2023-09-05T08:43:43.654368",
     "exception": false,
     "start_time": "2023-09-05T08:43:43.476329",
     "status": "completed"
    },
    "tags": []
   },
   "outputs": [
    {
     "data": {
      "text/plain": [
       "drinks\n",
       "2    44763\n",
       "1     5957\n",
       "3     5164\n",
       "0     3267\n",
       "4      471\n",
       "5      322\n",
       "Name: count, dtype: int64"
      ]
     },
     "execution_count": 13,
     "metadata": {},
     "output_type": "execute_result"
    }
   ],
   "source": [
    "# With drink habit, I assigned a number for their frequency:\n",
    "df_filtered.drinks.value_counts()\n",
    "df_filtered['drinks'] = df_filtered['drinks'].fillna(2)\n",
    "df_filtered['drinks'].replace(['not at all', 'rarely', 'socially', 'often', 'very often', 'desperately'],\n",
    "                        [0, 1, 2, 3, 4, 5], inplace=True)\n",
    "df_filtered.drinks.value_counts()"
   ]
  },
  {
   "cell_type": "code",
   "execution_count": 14,
   "id": "6b6f3db1",
   "metadata": {
    "execution": {
     "iopub.execute_input": "2023-09-05T08:43:43.694285Z",
     "iopub.status.busy": "2023-09-05T08:43:43.693544Z",
     "iopub.status.idle": "2023-09-05T08:43:43.737970Z",
     "shell.execute_reply": "2023-09-05T08:43:43.737109Z"
    },
    "papermill": {
     "duration": 0.067137,
     "end_time": "2023-09-05T08:43:43.740377",
     "exception": false,
     "start_time": "2023-09-05T08:43:43.673240",
     "status": "completed"
    },
    "tags": []
   },
   "outputs": [
    {
     "data": {
      "text/plain": [
       "height\n",
       "70.0    6074\n",
       "68.0    5449\n",
       "67.0    5353\n",
       "72.0    5315\n",
       "69.0    5179\n",
       "71.0    4826\n",
       "66.0    4759\n",
       "64.0    3865\n",
       "65.0    3794\n",
       "73.0    2815\n",
       "63.0    2767\n",
       "74.0    2547\n",
       "62.0    2244\n",
       "75.0    1382\n",
       "61.0    1090\n",
       "60.0     791\n",
       "76.0     783\n",
       "77.0     280\n",
       "59.0     212\n",
       "78.0     132\n",
       "79.0      57\n",
       "58.0      53\n",
       "80.0      27\n",
       "95.0      19\n",
       "57.0      17\n",
       "83.0      12\n",
       "81.0      11\n",
       "82.0      11\n",
       "36.0      11\n",
       "84.0       9\n",
       "56.0       8\n",
       "55.0       6\n",
       "53.0       5\n",
       "94.0       3\n",
       "54.0       3\n",
       "91.0       3\n",
       "50.0       2\n",
       "88.0       2\n",
       "37.0       2\n",
       "48.0       2\n",
       "43.0       2\n",
       "1.0        1\n",
       "51.0       1\n",
       "90.0       1\n",
       "26.0       1\n",
       "85.0       1\n",
       "9.0        1\n",
       "89.0       1\n",
       "92.0       1\n",
       "87.0       1\n",
       "49.0       1\n",
       "47.0       1\n",
       "6.0        1\n",
       "42.0       1\n",
       "86.0       1\n",
       "3.0        1\n",
       "8.0        1\n",
       "93.0       1\n",
       "52.0       1\n",
       "4.0        1\n",
       "Name: count, dtype: int64"
      ]
     },
     "execution_count": 14,
     "metadata": {},
     "output_type": "execute_result"
    }
   ],
   "source": [
    "# Remove null height rows, \n",
    "\n",
    "df_filtered = df_filtered.dropna(subset=['height'])\n",
    "df_filtered.height.value_counts()\n"
   ]
  },
  {
   "cell_type": "code",
   "execution_count": 15,
   "id": "abd44b04",
   "metadata": {
    "execution": {
     "iopub.execute_input": "2023-09-05T08:43:43.779669Z",
     "iopub.status.busy": "2023-09-05T08:43:43.779259Z",
     "iopub.status.idle": "2023-09-05T08:43:43.833753Z",
     "shell.execute_reply": "2023-09-05T08:43:43.832661Z"
    },
    "papermill": {
     "duration": 0.077638,
     "end_time": "2023-09-05T08:43:43.836581",
     "exception": false,
     "start_time": "2023-09-05T08:43:43.758943",
     "status": "completed"
    },
    "tags": []
   },
   "outputs": [
    {
     "data": {
      "text/plain": [
       "height\n",
       "70.0    6074\n",
       "68.0    5449\n",
       "67.0    5353\n",
       "72.0    5315\n",
       "69.0    5179\n",
       "71.0    4826\n",
       "66.0    4759\n",
       "64.0    3865\n",
       "65.0    3794\n",
       "73.0    2815\n",
       "63.0    2767\n",
       "74.0    2547\n",
       "62.0    2244\n",
       "75.0    1382\n",
       "61.0    1090\n",
       "60.0     791\n",
       "76.0     783\n",
       "77.0     280\n",
       "59.0     212\n",
       "78.0     132\n",
       "79.0      57\n",
       "58.0      53\n",
       "80.0      27\n",
       "95.0      19\n",
       "57.0      17\n",
       "83.0      12\n",
       "81.0      11\n",
       "36.0      11\n",
       "82.0      11\n",
       "84.0       9\n",
       "56.0       8\n",
       "55.0       6\n",
       "53.0       5\n",
       "91.0       3\n",
       "94.0       3\n",
       "54.0       3\n",
       "88.0       2\n",
       "37.0       2\n",
       "50.0       2\n",
       "48.0       2\n",
       "43.0       2\n",
       "51.0       1\n",
       "90.0       1\n",
       "26.0       1\n",
       "85.0       1\n",
       "92.0       1\n",
       "42.0       1\n",
       "49.0       1\n",
       "47.0       1\n",
       "86.0       1\n",
       "93.0       1\n",
       "52.0       1\n",
       "87.0       1\n",
       "89.0       1\n",
       "Name: count, dtype: int64"
      ]
     },
     "execution_count": 15,
     "metadata": {},
     "output_type": "execute_result"
    }
   ],
   "source": [
    "# remove strange height (<10)\n",
    "df_filtered.drop(df_filtered[df_filtered.height < 10].index, inplace=True)\n",
    "df_filtered.height.value_counts()"
   ]
  },
  {
   "cell_type": "code",
   "execution_count": 16,
   "id": "6fd50f66",
   "metadata": {
    "execution": {
     "iopub.execute_input": "2023-09-05T08:43:43.878059Z",
     "iopub.status.busy": "2023-09-05T08:43:43.875899Z",
     "iopub.status.idle": "2023-09-05T08:43:43.972503Z",
     "shell.execute_reply": "2023-09-05T08:43:43.971167Z"
    },
    "papermill": {
     "duration": 0.11967,
     "end_time": "2023-09-05T08:43:43.975200",
     "exception": false,
     "start_time": "2023-09-05T08:43:43.855530",
     "status": "completed"
    },
    "tags": []
   },
   "outputs": [
    {
     "data": {
      "text/plain": [
       "has_kid\n",
       "False    19463\n",
       "True      4919\n",
       "Name: count, dtype: int64"
      ]
     },
     "execution_count": 16,
     "metadata": {},
     "output_type": "execute_result"
    }
   ],
   "source": [
    "#  Split 'offspring' to two group: has kid and no kid (has_kid column)\n",
    "df_filtered.offspring.value_counts()\n",
    "def func(x):\n",
    "    map = {\n",
    "        \"doesn't have kids\" : False,\n",
    "        \"doesn't have kids, but might want them\" : False,\n",
    "        \"doesn't have kids, but wants them\" : False,\n",
    "        \"doesn't want kids\" : False,\n",
    "        \"has kids\" : True,\n",
    "        \"has a kid\" : True,\n",
    "        \"doesn't have kids, and doesn't want any\" : False,\n",
    "        \"has kids, but doesn't want more\" : True,\n",
    "        \"has a kid, but doesn't want more\" : True,\n",
    "        \"has a kid, and might want more\" : True,\n",
    "        \"wants kids\" : False,\n",
    "        \"might want kids\" : False,\n",
    "        \"has kids, and might want more\" : True,\n",
    "        \"has a kid, and wants more\" : True,\n",
    "        \"has kids, and wants more\" : True,\n",
    "    }\n",
    "    return map.get(x)\n",
    "\n",
    "df_filtered['has_kid'] = df_filtered.offspring.apply(func)\n",
    "\n",
    "df_filtered['has_kid'].value_counts()"
   ]
  },
  {
   "cell_type": "code",
   "execution_count": 17,
   "id": "f7706533",
   "metadata": {
    "execution": {
     "iopub.execute_input": "2023-09-05T08:43:44.015430Z",
     "iopub.status.busy": "2023-09-05T08:43:44.015023Z",
     "iopub.status.idle": "2023-09-05T08:43:44.107763Z",
     "shell.execute_reply": "2023-09-05T08:43:44.106251Z"
    },
    "papermill": {
     "duration": 0.116374,
     "end_time": "2023-09-05T08:43:44.110691",
     "exception": false,
     "start_time": "2023-09-05T08:43:43.994317",
     "status": "completed"
    },
    "tags": []
   },
   "outputs": [
    {
     "data": {
      "text/plain": [
       "language_count\n",
       "1    29117\n",
       "2    17227\n",
       "3     8680\n",
       "4     3249\n",
       "5     1662\n",
       "Name: count, dtype: int64"
      ]
     },
     "execution_count": 17,
     "metadata": {},
     "output_type": "execute_result"
    }
   ],
   "source": [
    "# Assign people do not specify their language as english speakers\n",
    "# Add columns language_count as number of languages that users can speak\n",
    "df_filtered['speaks'] = df_filtered['speaks'].fillna('english')\n",
    "df_filtered['language_count'] = df_filtered['speaks'].str.count(',')+1\n",
    "df_filtered.language_count.value_counts()"
   ]
  },
  {
   "cell_type": "code",
   "execution_count": 18,
   "id": "76679da5",
   "metadata": {
    "execution": {
     "iopub.execute_input": "2023-09-05T08:43:44.154445Z",
     "iopub.status.busy": "2023-09-05T08:43:44.153354Z",
     "iopub.status.idle": "2023-09-05T08:43:44.221871Z",
     "shell.execute_reply": "2023-09-05T08:43:44.220632Z"
    },
    "papermill": {
     "duration": 0.092113,
     "end_time": "2023-09-05T08:43:44.224483",
     "exception": false,
     "start_time": "2023-09-05T08:43:44.132370",
     "status": "completed"
    },
    "tags": []
   },
   "outputs": [
    {
     "data": {
      "text/plain": [
       "['age',\n",
       " 'height',\n",
       " 'incomelog10',\n",
       " 'is_male',\n",
       " 'orientation_bisexual',\n",
       " 'orientation_gay',\n",
       " 'orientation_straight',\n",
       " 'has_kid',\n",
       " 'language_count']"
      ]
     },
     "execution_count": 18,
     "metadata": {},
     "output_type": "execute_result"
    }
   ],
   "source": [
    "list(df_filtered.columns)\n",
    "# Remove negative income\n",
    "df_filtered.drop(df_filtered[df_filtered.income < 0].index, inplace=True)\n",
    "\n",
    "#  use log10 of income instead of income\n",
    "df_filtered['incomelog10'] = np.log10(df_filtered['income'])\n",
    "# Remove column name 'A'\n",
    "df_last = df_filtered[['age','height','incomelog10','is_male','orientation_bisexual','orientation_gay','orientation_straight','has_kid','language_count']].copy()\n",
    "list(df_last.columns)"
   ]
  },
  {
   "cell_type": "code",
   "execution_count": 19,
   "id": "e617412d",
   "metadata": {
    "execution": {
     "iopub.execute_input": "2023-09-05T08:43:44.265172Z",
     "iopub.status.busy": "2023-09-05T08:43:44.264793Z",
     "iopub.status.idle": "2023-09-05T08:43:47.690752Z",
     "shell.execute_reply": "2023-09-05T08:43:47.689859Z"
    },
    "papermill": {
     "duration": 3.449494,
     "end_time": "2023-09-05T08:43:47.693402",
     "exception": false,
     "start_time": "2023-09-05T08:43:44.243908",
     "status": "completed"
    },
    "tags": []
   },
   "outputs": [
    {
     "data": {
      "image/png": "[encoded data removed]",
      "text/plain": [
       "<Figure size 4000x1000 with 1 Axes>"
      ]
     },
     "metadata": {},
     "output_type": "display_data"
    }
   ],
   "source": [
    "import seaborn as sns\n",
    "import matplotlib.pyplot as plt\n",
    "sns.set()\n",
    "fig, ax = plt.subplots(figsize=(40, 10))\n",
    "\n",
    "sns.boxplot(df_last, y = 'incomelog10', x ='age')\n",
    "#df_last.boxplot(column='incomelog10', by='age')\n",
    "\n",
    "plt.show()"
   ]
  },
  {
   "cell_type": "code",
   "execution_count": 20,
   "id": "16784c56",
   "metadata": {
    "execution": {
     "iopub.execute_input": "2023-09-05T08:43:47.738788Z",
     "iopub.status.busy": "2023-09-05T08:43:47.738373Z",
     "iopub.status.idle": "2023-09-05T08:43:49.204412Z",
     "shell.execute_reply": "2023-09-05T08:43:49.202796Z"
    },
    "papermill": {
     "duration": 1.491917,
     "end_time": "2023-09-05T08:43:49.207536",
     "exception": false,
     "start_time": "2023-09-05T08:43:47.715619",
     "status": "completed"
    },
    "tags": []
   },
   "outputs": [
    {
     "data": {
      "image/png": "[encoded data removed]",
      "text/plain": [
       "<Figure size 4000x1000 with 1 Axes>"
      ]
     },
     "metadata": {},
     "output_type": "display_data"
    }
   ],
   "source": [
    "\n",
    "fig, ax = plt.subplots(figsize=(40, 10))\n",
    "sns.boxplot(df_last, y = 'incomelog10', x ='height')\n",
    "plt.show()"
   ]
  },
  {
   "cell_type": "code",
   "execution_count": 21,
   "id": "51f3d847",
   "metadata": {
    "execution": {
     "iopub.execute_input": "2023-09-05T08:43:49.254236Z",
     "iopub.status.busy": "2023-09-05T08:43:49.253515Z",
     "iopub.status.idle": "2023-09-05T08:43:49.558814Z",
     "shell.execute_reply": "2023-09-05T08:43:49.557686Z"
    },
    "papermill": {
     "duration": 0.331687,
     "end_time": "2023-09-05T08:43:49.561456",
     "exception": false,
     "start_time": "2023-09-05T08:43:49.229769",
     "status": "completed"
    },
    "tags": []
   },
   "outputs": [
    {
     "data": {
      "text/plain": [
       "<Axes: xlabel='is_male', ylabel='incomelog10'>"
      ]
     },
     "execution_count": 21,
     "metadata": {},
     "output_type": "execute_result"
    },
    {
     "data": {
      "image/png": "[encoded data removed]",
      "text/plain": [
       "<Figure size 640x480 with 1 Axes>"
      ]
     },
     "metadata": {},
     "output_type": "display_data"
    }
   ],
   "source": [
    "sns.boxplot(df_last, y = 'incomelog10', x ='is_male')\n"
   ]
  },
  {
   "cell_type": "code",
   "execution_count": 22,
   "id": "15ec7384",
   "metadata": {
    "execution": {
     "iopub.execute_input": "2023-09-05T08:43:49.608395Z",
     "iopub.status.busy": "2023-09-05T08:43:49.607718Z",
     "iopub.status.idle": "2023-09-05T08:43:49.917064Z",
     "shell.execute_reply": "2023-09-05T08:43:49.915846Z"
    },
    "papermill": {
     "duration": 0.336378,
     "end_time": "2023-09-05T08:43:49.919725",
     "exception": false,
     "start_time": "2023-09-05T08:43:49.583347",
     "status": "completed"
    },
    "tags": []
   },
   "outputs": [
    {
     "data": {
      "text/plain": [
       "<Axes: xlabel='orientation_bisexual', ylabel='incomelog10'>"
      ]
     },
     "execution_count": 22,
     "metadata": {},
     "output_type": "execute_result"
    },
    {
     "data": {
      "image/png": "[encoded data removed]",
      "text/plain": [
       "<Figure size 640x480 with 1 Axes>"
      ]
     },
     "metadata": {},
     "output_type": "display_data"
    }
   ],
   "source": [
    "sns.boxplot(df_last, y = 'incomelog10', x ='orientation_bisexual')\n"
   ]
  },
  {
   "cell_type": "code",
   "execution_count": 23,
   "id": "67e96869",
   "metadata": {
    "execution": {
     "iopub.execute_input": "2023-09-05T08:43:49.967670Z",
     "iopub.status.busy": "2023-09-05T08:43:49.967013Z",
     "iopub.status.idle": "2023-09-05T08:43:50.280024Z",
     "shell.execute_reply": "2023-09-05T08:43:50.278653Z"
    },
    "papermill": {
     "duration": 0.34036,
     "end_time": "2023-09-05T08:43:50.282884",
     "exception": false,
     "start_time": "2023-09-05T08:43:49.942524",
     "status": "completed"
    },
    "tags": []
   },
   "outputs": [
    {
     "data": {
      "text/plain": [
       "<Axes: xlabel='orientation_gay', ylabel='incomelog10'>"
      ]
     },
     "execution_count": 23,
     "metadata": {},
     "output_type": "execute_result"
    },
    {
     "data": {
      "image/png": "[encoded data removed]",
      "text/plain": [
       "<Figure size 640x480 with 1 Axes>"
      ]
     },
     "metadata": {},
     "output_type": "display_data"
    }
   ],
   "source": [
    "sns.boxplot(df_last, y = 'incomelog10', x ='orientation_gay')\n"
   ]
  },
  {
   "cell_type": "code",
   "execution_count": 24,
   "id": "659c2487",
   "metadata": {
    "execution": {
     "iopub.execute_input": "2023-09-05T08:43:50.332748Z",
     "iopub.status.busy": "2023-09-05T08:43:50.332350Z",
     "iopub.status.idle": "2023-09-05T08:43:50.644654Z",
     "shell.execute_reply": "2023-09-05T08:43:50.643432Z"
    },
    "papermill": {
     "duration": 0.34012,
     "end_time": "2023-09-05T08:43:50.647557",
     "exception": false,
     "start_time": "2023-09-05T08:43:50.307437",
     "status": "completed"
    },
    "tags": []
   },
   "outputs": [
    {
     "data": {
      "text/plain": [
       "<Axes: xlabel='orientation_straight', ylabel='incomelog10'>"
      ]
     },
     "execution_count": 24,
     "metadata": {},
     "output_type": "execute_result"
    },
    {
     "data": {
      "image/png": "[encoded data removed]",
      "text/plain": [
       "<Figure size 640x480 with 1 Axes>"
      ]
     },
     "metadata": {},
     "output_type": "display_data"
    }
   ],
   "source": [
    "sns.boxplot(df_last, y = 'incomelog10', x ='orientation_straight')\n"
   ]
  },
  {
   "cell_type": "code",
   "execution_count": 25,
   "id": "52df4b5c",
   "metadata": {
    "execution": {
     "iopub.execute_input": "2023-09-05T08:43:50.697502Z",
     "iopub.status.busy": "2023-09-05T08:43:50.697111Z",
     "iopub.status.idle": "2023-09-05T08:43:51.011985Z",
     "shell.execute_reply": "2023-09-05T08:43:51.010824Z"
    },
    "papermill": {
     "duration": 0.343597,
     "end_time": "2023-09-05T08:43:51.014992",
     "exception": false,
     "start_time": "2023-09-05T08:43:50.671395",
     "status": "completed"
    },
    "tags": []
   },
   "outputs": [
    {
     "data": {
      "text/plain": [
       "<Axes: xlabel='has_kid', ylabel='incomelog10'>"
      ]
     },
     "execution_count": 25,
     "metadata": {},
     "output_type": "execute_result"
    },
    {
     "data": {
      "image/png": "[encoded data removed]",
      "text/plain": [
       "<Figure size 640x480 with 1 Axes>"
      ]
     },
     "metadata": {},
     "output_type": "display_data"
    }
   ],
   "source": [
    "sns.boxplot(df_last, y = 'incomelog10', x ='has_kid')\n"
   ]
  },
  {
   "cell_type": "code",
   "execution_count": 26,
   "id": "10928436",
   "metadata": {
    "execution": {
     "iopub.execute_input": "2023-09-05T08:43:51.067178Z",
     "iopub.status.busy": "2023-09-05T08:43:51.066612Z",
     "iopub.status.idle": "2023-09-05T08:43:51.452424Z",
     "shell.execute_reply": "2023-09-05T08:43:51.451161Z"
    },
    "papermill": {
     "duration": 0.415872,
     "end_time": "2023-09-05T08:43:51.455412",
     "exception": false,
     "start_time": "2023-09-05T08:43:51.039540",
     "status": "completed"
    },
    "tags": []
   },
   "outputs": [
    {
     "data": {
      "text/plain": [
       "<Axes: xlabel='language_count', ylabel='incomelog10'>"
      ]
     },
     "execution_count": 26,
     "metadata": {},
     "output_type": "execute_result"
    },
    {
     "data": {
      "image/png": "[encoded data removed]",
      "text/plain": [
       "<Figure size 640x480 with 1 Axes>"
      ]
     },
     "metadata": {},
     "output_type": "display_data"
    }
   ],
   "source": [
    "sns.boxplot(df_last, y = 'incomelog10', x ='language_count')"
   ]
  },
  {
   "cell_type": "markdown",
   "id": "c1b72061",
   "metadata": {
    "papermill": {
     "duration": 0.024935,
     "end_time": "2023-09-05T08:43:51.505964",
     "exception": false,
     "start_time": "2023-09-05T08:43:51.481029",
     "status": "completed"
    },
    "tags": []
   },
   "source": [
    "# Hypothesis\n",
    "\n",
    "## Sexual orientation affect income\n",
    "\n",
    "Ho: There is no different between income of straight and lgbt\n",
    "\n",
    "Ha: There is difference between the income of straight people and lgbt people\n",
    "\n"
   ]
  },
  {
   "cell_type": "code",
   "execution_count": 27,
   "id": "2314dc5e",
   "metadata": {
    "execution": {
     "iopub.execute_input": "2023-09-05T08:43:51.557996Z",
     "iopub.status.busy": "2023-09-05T08:43:51.557572Z",
     "iopub.status.idle": "2023-09-05T08:43:52.109870Z",
     "shell.execute_reply": "2023-09-05T08:43:52.108661Z"
    },
    "papermill": {
     "duration": 0.581625,
     "end_time": "2023-09-05T08:43:52.112638",
     "exception": false,
     "start_time": "2023-09-05T08:43:51.531013",
     "status": "completed"
    },
    "tags": []
   },
   "outputs": [
    {
     "data": {
      "text/plain": [
       "<Axes: xlabel='incomelog10', ylabel='Density'>"
      ]
     },
     "execution_count": 27,
     "metadata": {},
     "output_type": "execute_result"
    },
    {
     "data": {
      "image/png": "[encoded data removed]",
      "text/plain": [
       "<Figure size 640x480 with 1 Axes>"
      ]
     },
     "metadata": {},
     "output_type": "display_data"
    }
   ],
   "source": [
    "straight=df_last.loc[df_last.orientation_straight]\n",
    "lgbt=df_last.loc[~df_last.orientation_straight]\n",
    "\n",
    "s_income = straight.incomelog10\n",
    "l_income = lgbt.incomelog10\n",
    "\n",
    "sns.kdeplot(s_income,color='green')\n",
    "sns.kdeplot(l_income,color='red')"
   ]
  },
  {
   "cell_type": "code",
   "execution_count": 28,
   "id": "2fda49d4",
   "metadata": {
    "execution": {
     "iopub.execute_input": "2023-09-05T08:43:52.168274Z",
     "iopub.status.busy": "2023-09-05T08:43:52.167872Z",
     "iopub.status.idle": "2023-09-05T08:43:52.175073Z",
     "shell.execute_reply": "2023-09-05T08:43:52.173898Z"
    },
    "papermill": {
     "duration": 0.040109,
     "end_time": "2023-09-05T08:43:52.178563",
     "exception": false,
     "start_time": "2023-09-05T08:43:52.138454",
     "status": "completed"
    },
    "tags": []
   },
   "outputs": [
    {
     "name": "stdout",
     "output_type": "stream",
     "text": [
      "4.759317555655891\n",
      "4.62511426310358\n"
     ]
    }
   ],
   "source": [
    "print(s_income.mean())\n",
    "print(l_income.mean())"
   ]
  },
  {
   "cell_type": "code",
   "execution_count": 29,
   "id": "61fd7ec8",
   "metadata": {
    "execution": {
     "iopub.execute_input": "2023-09-05T08:43:52.232572Z",
     "iopub.status.busy": "2023-09-05T08:43:52.232179Z",
     "iopub.status.idle": "2023-09-05T08:43:52.243998Z",
     "shell.execute_reply": "2023-09-05T08:43:52.242686Z"
    },
    "papermill": {
     "duration": 0.041486,
     "end_time": "2023-09-05T08:43:52.246180",
     "exception": false,
     "start_time": "2023-09-05T08:43:52.204694",
     "status": "completed"
    },
    "tags": []
   },
   "outputs": [
    {
     "name": "stdout",
     "output_type": "stream",
     "text": [
      "t_value1 =  11.892619009095835 , p_value1 =  2.0022903264258819e-32\n"
     ]
    }
   ],
   "source": [
    "import scipy.stats as stats \n",
    "from scipy.stats import chi2_contingency\n",
    "\n",
    "alpha=0.05\n",
    "t_value1, p_value1 = stats.ttest_ind(s_income, l_income)\n",
    "print(\"t_value1 = \",t_value1, \", p_value1 = \", p_value1)"
   ]
  },
  {
   "cell_type": "code",
   "execution_count": 30,
   "id": "9bb17899",
   "metadata": {
    "execution": {
     "iopub.execute_input": "2023-09-05T08:43:52.300786Z",
     "iopub.status.busy": "2023-09-05T08:43:52.299566Z",
     "iopub.status.idle": "2023-09-05T08:43:52.306662Z",
     "shell.execute_reply": "2023-09-05T08:43:52.305186Z"
    },
    "papermill": {
     "duration": 0.036979,
     "end_time": "2023-09-05T08:43:52.309189",
     "exception": false,
     "start_time": "2023-09-05T08:43:52.272210",
     "status": "completed"
    },
    "tags": []
   },
   "outputs": [
    {
     "name": "stdout",
     "output_type": "stream",
     "text": [
      "Conclusion: since p_value 2.0022903264258819e-32 is less than alpha 0.05 \n",
      "Reject the null hypothesis that There is no different between income of straight and lgbt.\n"
     ]
    }
   ],
   "source": [
    "if p_value1 <alpha:\n",
    "    print(\"Conclusion: since p_value {} is less than alpha {} \". format (p_value1,alpha))\n",
    "    print(\"Reject the null hypothesis that There is no different between income of straight and lgbt.\")\n",
    "    \n",
    "else:\n",
    "    print(\"Conclusion: since p_value {} is greater than alpha {} \". format (p_value1,alpha))\n",
    "    print(\"Fail to reject the null hypothes is that There is no different between income of straight and lgbt.\")"
   ]
  },
  {
   "cell_type": "markdown",
   "id": "6d85e25e",
   "metadata": {
    "papermill": {
     "duration": 0.026135,
     "end_time": "2023-09-05T08:43:52.361322",
     "exception": false,
     "start_time": "2023-09-05T08:43:52.335187",
     "status": "completed"
    },
    "tags": []
   },
   "source": []
  },
  {
   "cell_type": "markdown",
   "id": "dd305c67",
   "metadata": {
    "papermill": {
     "duration": 0.025567,
     "end_time": "2023-09-05T08:43:52.412996",
     "exception": false,
     "start_time": "2023-09-05T08:43:52.387429",
     "status": "completed"
    },
    "tags": []
   },
   "source": [
    "## Gender affect income\n",
    "\n",
    "Ho: There is no different between income of male and female\n",
    "\n",
    "Ha: There is difference between the income of male and female\n",
    "\n"
   ]
  },
  {
   "cell_type": "code",
   "execution_count": 31,
   "id": "ac8f8983",
   "metadata": {
    "execution": {
     "iopub.execute_input": "2023-09-05T08:43:52.466767Z",
     "iopub.status.busy": "2023-09-05T08:43:52.466328Z",
     "iopub.status.idle": "2023-09-05T08:43:52.718390Z",
     "shell.execute_reply": "2023-09-05T08:43:52.717232Z"
    },
    "papermill": {
     "duration": 0.282102,
     "end_time": "2023-09-05T08:43:52.721027",
     "exception": false,
     "start_time": "2023-09-05T08:43:52.438925",
     "status": "completed"
    },
    "tags": []
   },
   "outputs": [
    {
     "data": {
      "text/plain": [
       "<Axes: xlabel='is_male', ylabel='incomelog10'>"
      ]
     },
     "execution_count": 31,
     "metadata": {},
     "output_type": "execute_result"
    },
    {
     "data": {
      "image/png": "[encoded data removed]",
      "text/plain": [
       "<Figure size 640x480 with 1 Axes>"
      ]
     },
     "metadata": {},
     "output_type": "display_data"
    }
   ],
   "source": [
    "male=df_last.loc[df_last.is_male]\n",
    "female=df_last.loc[~df_last.is_male]\n",
    "\n",
    "m_income = male.incomelog10\n",
    "f_income = female.incomelog10\n",
    "\n",
    "sns.boxplot(df_last, y = 'incomelog10', x ='is_male')\n"
   ]
  },
  {
   "cell_type": "code",
   "execution_count": 32,
   "id": "1b65a3e4",
   "metadata": {
    "execution": {
     "iopub.execute_input": "2023-09-05T08:43:52.778894Z",
     "iopub.status.busy": "2023-09-05T08:43:52.778450Z",
     "iopub.status.idle": "2023-09-05T08:43:52.785368Z",
     "shell.execute_reply": "2023-09-05T08:43:52.784266Z"
    },
    "papermill": {
     "duration": 0.039634,
     "end_time": "2023-09-05T08:43:52.787933",
     "exception": false,
     "start_time": "2023-09-05T08:43:52.748299",
     "status": "completed"
    },
    "tags": []
   },
   "outputs": [
    {
     "name": "stdout",
     "output_type": "stream",
     "text": [
      "4.775067828852099\n",
      "4.6549233464555515\n"
     ]
    }
   ],
   "source": [
    "print(m_income.mean())\n",
    "print(f_income.mean())"
   ]
  },
  {
   "cell_type": "code",
   "execution_count": 33,
   "id": "ada96e49",
   "metadata": {
    "execution": {
     "iopub.execute_input": "2023-09-05T08:43:52.843876Z",
     "iopub.status.busy": "2023-09-05T08:43:52.843221Z",
     "iopub.status.idle": "2023-09-05T08:43:52.851963Z",
     "shell.execute_reply": "2023-09-05T08:43:52.850533Z"
    },
    "papermill": {
     "duration": 0.039676,
     "end_time": "2023-09-05T08:43:52.854266",
     "exception": false,
     "start_time": "2023-09-05T08:43:52.814590",
     "status": "completed"
    },
    "tags": []
   },
   "outputs": [
    {
     "name": "stdout",
     "output_type": "stream",
     "text": [
      "t_value = 14.345803933435308 , p_value =2.836517269733523e-46 , p_value_onetail = 1.4182586348667615e-46\n"
     ]
    }
   ],
   "source": [
    "alpha=0.05\n",
    "t_val2, p_value2 = stats.ttest_ind(m_income, f_income)\n",
    "p_value_onetail=p_value2/2\n",
    "print(\"t_value = {} , p_value ={} , p_value_onetail = {}\".format(t_val2, p_value2, p_value_onetail))"
   ]
  },
  {
   "cell_type": "code",
   "execution_count": 34,
   "id": "486b39c3",
   "metadata": {
    "execution": {
     "iopub.execute_input": "2023-09-05T08:43:52.913093Z",
     "iopub.status.busy": "2023-09-05T08:43:52.911482Z",
     "iopub.status.idle": "2023-09-05T08:43:52.919074Z",
     "shell.execute_reply": "2023-09-05T08:43:52.917821Z"
    },
    "papermill": {
     "duration": 0.040892,
     "end_time": "2023-09-05T08:43:52.921948",
     "exception": false,
     "start_time": "2023-09-05T08:43:52.881056",
     "status": "completed"
    },
    "tags": []
   },
   "outputs": [
    {
     "name": "stdout",
     "output_type": "stream",
     "text": [
      "Conclusion: since p_value2 2.0022903264258819e-32 is less than alpha 0.05 \n",
      "Reject the null hypothesis that There is no different between income of male and female.\n"
     ]
    }
   ],
   "source": [
    "# Enter your code and run the cell\n",
    "\n",
    "if p_value2 < alpha:\n",
    "    print(\"Conclusion: since p_value2 {} is less than alpha {} \". format (p_value1,alpha))\n",
    "    print(\"Reject the null hypothesis that There is no different between income of male and female.\")\n",
    "    \n",
    "else:\n",
    "    print(\"Conclusion: since p_value2 {} is greater than alpha {} \". format (p_value1,alpha))\n",
    "    print(\"Fail to reject the null hypothesis that There is no different between income of male and female.\")"
   ]
  },
  {
   "cell_type": "markdown",
   "id": "3fcb1d25",
   "metadata": {
    "papermill": {
     "duration": 0.026835,
     "end_time": "2023-09-05T08:43:52.975508",
     "exception": false,
     "start_time": "2023-09-05T08:43:52.948673",
     "status": "completed"
    },
    "tags": []
   },
   "source": [
    "\n",
    "## Languages speak affect income\n",
    "\n",
    "Ho: There is no income change when people speak more language\n",
    "\n",
    "Ha: There is change when people speak more language\n",
    "\n"
   ]
  },
  {
   "cell_type": "code",
   "execution_count": 35,
   "id": "c3389e1e",
   "metadata": {
    "execution": {
     "iopub.execute_input": "2023-09-05T08:43:53.031486Z",
     "iopub.status.busy": "2023-09-05T08:43:53.031085Z",
     "iopub.status.idle": "2023-09-05T08:43:53.443784Z",
     "shell.execute_reply": "2023-09-05T08:43:53.442505Z"
    },
    "papermill": {
     "duration": 0.443929,
     "end_time": "2023-09-05T08:43:53.446586",
     "exception": false,
     "start_time": "2023-09-05T08:43:53.002657",
     "status": "completed"
    },
    "tags": []
   },
   "outputs": [
    {
     "data": {
      "text/plain": [
       "<Axes: xlabel='language_count', ylabel='incomelog10'>"
      ]
     },
     "execution_count": 35,
     "metadata": {},
     "output_type": "execute_result"
    },
    {
     "data": {
      "image/png": "[encoded data removed]",
      "text/plain": [
       "<Figure size 640x480 with 1 Axes>"
      ]
     },
     "metadata": {},
     "output_type": "display_data"
    }
   ],
   "source": [
    "sns.boxplot(df_last, y = 'incomelog10', x ='language_count')\n"
   ]
  },
  {
   "cell_type": "code",
   "execution_count": 36,
   "id": "56c17367",
   "metadata": {
    "execution": {
     "iopub.execute_input": "2023-09-05T08:43:53.503913Z",
     "iopub.status.busy": "2023-09-05T08:43:53.503473Z",
     "iopub.status.idle": "2023-09-05T08:43:53.519555Z",
     "shell.execute_reply": "2023-09-05T08:43:53.518335Z"
    },
    "papermill": {
     "duration": 0.048274,
     "end_time": "2023-09-05T08:43:53.522485",
     "exception": false,
     "start_time": "2023-09-05T08:43:53.474211",
     "status": "completed"
    },
    "tags": []
   },
   "outputs": [
    {
     "data": {
      "text/plain": [
       "language_count\n",
       "1    4.727418\n",
       "2    4.718950\n",
       "3    4.764258\n",
       "4    4.810476\n",
       "5    4.932876\n",
       "Name: incomelog10, dtype: float64"
      ]
     },
     "execution_count": 36,
     "metadata": {},
     "output_type": "execute_result"
    }
   ],
   "source": [
    "df_last.groupby('language_count').incomelog10.mean()"
   ]
  },
  {
   "cell_type": "code",
   "execution_count": 37,
   "id": "d3d3301d",
   "metadata": {
    "execution": {
     "iopub.execute_input": "2023-09-05T08:43:53.580962Z",
     "iopub.status.busy": "2023-09-05T08:43:53.580308Z",
     "iopub.status.idle": "2023-09-05T08:43:54.159904Z",
     "shell.execute_reply": "2023-09-05T08:43:54.158159Z"
    },
    "papermill": {
     "duration": 0.613504,
     "end_time": "2023-09-05T08:43:54.164295",
     "exception": false,
     "start_time": "2023-09-05T08:43:53.550791",
     "status": "completed"
    },
    "tags": []
   },
   "outputs": [
    {
     "data": {
      "text/html": [
       "<div>\n",
       "<style scoped>\n",
       "    .dataframe tbody tr th:only-of-type {\n",
       "        vertical-align: middle;\n",
       "    }\n",
       "\n",
       "    .dataframe tbody tr th {\n",
       "        vertical-align: top;\n",
       "    }\n",
       "\n",
       "    .dataframe thead th {\n",
       "        text-align: right;\n",
       "    }\n",
       "</style>\n",
       "<table border=\"1\" class=\"dataframe\">\n",
       "  <thead>\n",
       "    <tr style=\"text-align: right;\">\n",
       "      <th></th>\n",
       "      <th>df</th>\n",
       "      <th>sum_sq</th>\n",
       "      <th>mean_sq</th>\n",
       "      <th>F</th>\n",
       "      <th>PR(&gt;F)</th>\n",
       "    </tr>\n",
       "  </thead>\n",
       "  <tbody>\n",
       "    <tr>\n",
       "      <th>C(incomelog10)</th>\n",
       "      <td>11.0</td>\n",
       "      <td>155.523992</td>\n",
       "      <td>14.138545</td>\n",
       "      <td>12.236095</td>\n",
       "      <td>2.866821e-23</td>\n",
       "    </tr>\n",
       "    <tr>\n",
       "      <th>Residual</th>\n",
       "      <td>11490.0</td>\n",
       "      <td>13276.447839</td>\n",
       "      <td>1.155478</td>\n",
       "      <td>NaN</td>\n",
       "      <td>NaN</td>\n",
       "    </tr>\n",
       "  </tbody>\n",
       "</table>\n",
       "</div>"
      ],
      "text/plain": [
       "                     df        sum_sq    mean_sq          F        PR(>F)\n",
       "C(incomelog10)     11.0    155.523992  14.138545  12.236095  2.866821e-23\n",
       "Residual        11490.0  13276.447839   1.155478        NaN           NaN"
      ]
     },
     "execution_count": 37,
     "metadata": {},
     "output_type": "execute_result"
    }
   ],
   "source": [
    "from statsmodels.formula.api import ols\n",
    "from statsmodels.stats.anova import anova_lm \n",
    "\n",
    "df_language = df_last[['language_count','incomelog10']].copy()\n",
    "formula = 'language_count ~ C(incomelog10)'\n",
    "model = ols(formula, df_language).fit()\n",
    "aov_table = anova_lm(model)\n",
    "aov_table"
   ]
  }
 ],
 "kernelspec": {
  "display_name": "Python 3",
  "language": "python",
  "name": "python3"
 },
 "language_info": {
  "codemirror_mode": {
   "name": "ipython",
   "version": 3
  },
  "file_extension": ".py",
  "mimetype": "text/x-python",
  "name": "python",
  "nbconvert_exporter": "python",
  "pygments_lexer": "ipython3",
  "version": "3.6.4"
 },
 "metadata": {
  "kernelspec": {
   "display_name": "Python 3",
   "language": "python",
   "name": "python3"
  },
  "language_info": {
   "codemirror_mode": {
    "name": "ipython",
    "version": 3
   },
   "file_extension": ".py",
   "mimetype": "text/x-python",
   "name": "python",
   "nbconvert_exporter": "python",
   "pygments_lexer": "ipython3",
   "version": "3.10.12"
  },
  "papermill": {
   "default_parameters": {},
   "duration": 20.440243,
   "end_time": "2023-09-05T08:43:54.955673",
   "environment_variables": {},
   "exception": null,
   "input_path": "__notebook__.ipynb",
   "output_path": "__notebook__.ipynb",
   "parameters": {},
   "start_time": "2023-09-05T08:43:34.515430",
   "version": "2.4.0"
  }
 },
 "nbformat": 4,
 "nbformat_minor": 5
}
